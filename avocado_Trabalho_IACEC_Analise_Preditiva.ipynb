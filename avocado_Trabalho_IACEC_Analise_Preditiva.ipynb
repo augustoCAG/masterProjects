{
  "nbformat": 4,
  "nbformat_minor": 0,
  "metadata": {
    "colab": {
      "name": "avocado_Trabalho_IACEC_Analise_Preditiva.ipynb",
      "provenance": [],
      "collapsed_sections": []
    },
    "kernelspec": {
      "name": "python3",
      "display_name": "Python 3"
    }
  },
  "cells": [
    {
      "cell_type": "markdown",
      "metadata": {
        "id": "CZYbF_EWp8-v"
      },
      "source": [
        "**3 - DATA UNDERSTANDING:**"
      ]
    },
    {
      "cell_type": "code",
      "metadata": {
        "id": "-N9yBHzBK2fc"
      },
      "source": [
        "import numpy as np\n",
        "import math\n",
        "import pandas as pd\n",
        "import seaborn as sns\n",
        "import sklearn\n",
        "from matplotlib import pyplot as plt\n",
        "%matplotlib inline"
      ],
      "execution_count": null,
      "outputs": []
    },
    {
      "cell_type": "code",
      "metadata": {
        "id": "kKg3vGtjLmak",
        "outputId": "960bee86-f8fa-4ed4-ec52-e968f19605fc",
        "colab": {
          "resources": {
            "http://localhost:8080/nbextensions/google.colab/files.js": {
              "data": "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",
              "ok": true,
              "headers": [
                [
                  "content-type",
                  "application/javascript"
                ]
              ],
              "status": 200,
              "status_text": ""
            }
          },
          "base_uri": "https://localhost:8080/",
          "height": 73
        }
      },
      "source": [
        "from google.colab import files\n",
        "uploaded = files.upload()"
      ],
      "execution_count": null,
      "outputs": [
        {
          "output_type": "display_data",
          "data": {
            "text/html": [
              "\n",
              "     <input type=\"file\" id=\"files-60fdd262-e7d4-4476-a010-dffa2003279c\" name=\"files[]\" multiple disabled\n",
              "        style=\"border:none\" />\n",
              "     <output id=\"result-60fdd262-e7d4-4476-a010-dffa2003279c\">\n",
              "      Upload widget is only available when the cell has been executed in the\n",
              "      current browser session. Please rerun this cell to enable.\n",
              "      </output>\n",
              "      <script src=\"/nbextensions/google.colab/files.js\"></script> "
            ],
            "text/plain": [
              "<IPython.core.display.HTML object>"
            ]
          },
          "metadata": {
            "tags": []
          }
        },
        {
          "output_type": "stream",
          "text": [
            "Saving avocado.csv to avocado (1).csv\n"
          ],
          "name": "stdout"
        }
      ]
    },
    {
      "cell_type": "code",
      "metadata": {
        "id": "AW4KfH8jLrUM",
        "outputId": "e9e2f59a-6a0b-4aa9-85ef-dd64de03874d",
        "colab": {
          "base_uri": "https://localhost:8080/",
          "height": 274
        }
      },
      "source": [
        "import io\n",
        "df = pd.read_csv(io.BytesIO(uploaded['avocado.csv']))\n",
        "df.sample(4)"
      ],
      "execution_count": null,
      "outputs": [
        {
          "output_type": "execute_result",
          "data": {
            "text/html": [
              "<div>\n",
              "<style scoped>\n",
              "    .dataframe tbody tr th:only-of-type {\n",
              "        vertical-align: middle;\n",
              "    }\n",
              "\n",
              "    .dataframe tbody tr th {\n",
              "        vertical-align: top;\n",
              "    }\n",
              "\n",
              "    .dataframe thead th {\n",
              "        text-align: right;\n",
              "    }\n",
              "</style>\n",
              "<table border=\"1\" class=\"dataframe\">\n",
              "  <thead>\n",
              "    <tr style=\"text-align: right;\">\n",
              "      <th></th>\n",
              "      <th>Unnamed: 0</th>\n",
              "      <th>Date</th>\n",
              "      <th>AveragePrice</th>\n",
              "      <th>Total Volume</th>\n",
              "      <th>4046</th>\n",
              "      <th>4225</th>\n",
              "      <th>4770</th>\n",
              "      <th>Total Bags</th>\n",
              "      <th>Small Bags</th>\n",
              "      <th>Large Bags</th>\n",
              "      <th>XLarge Bags</th>\n",
              "      <th>type</th>\n",
              "      <th>year</th>\n",
              "      <th>region</th>\n",
              "    </tr>\n",
              "  </thead>\n",
              "  <tbody>\n",
              "    <tr>\n",
              "      <th>14957</th>\n",
              "      <td>4</td>\n",
              "      <td>2017-12-03</td>\n",
              "      <td>1.88</td>\n",
              "      <td>21338.43</td>\n",
              "      <td>39.81</td>\n",
              "      <td>1355.40</td>\n",
              "      <td>0.00</td>\n",
              "      <td>19943.22</td>\n",
              "      <td>18266.31</td>\n",
              "      <td>1676.91</td>\n",
              "      <td>0.00</td>\n",
              "      <td>organic</td>\n",
              "      <td>2017</td>\n",
              "      <td>Boston</td>\n",
              "    </tr>\n",
              "    <tr>\n",
              "      <th>4594</th>\n",
              "      <td>18</td>\n",
              "      <td>2016-08-21</td>\n",
              "      <td>1.42</td>\n",
              "      <td>89949.42</td>\n",
              "      <td>1802.19</td>\n",
              "      <td>51710.69</td>\n",
              "      <td>1003.84</td>\n",
              "      <td>35432.70</td>\n",
              "      <td>26056.23</td>\n",
              "      <td>8896.47</td>\n",
              "      <td>480.00</td>\n",
              "      <td>conventional</td>\n",
              "      <td>2016</td>\n",
              "      <td>Pittsburgh</td>\n",
              "    </tr>\n",
              "    <tr>\n",
              "      <th>16577</th>\n",
              "      <td>34</td>\n",
              "      <td>2017-05-07</td>\n",
              "      <td>1.51</td>\n",
              "      <td>7538.29</td>\n",
              "      <td>937.13</td>\n",
              "      <td>25.33</td>\n",
              "      <td>0.00</td>\n",
              "      <td>6575.83</td>\n",
              "      <td>5972.78</td>\n",
              "      <td>603.05</td>\n",
              "      <td>0.00</td>\n",
              "      <td>organic</td>\n",
              "      <td>2017</td>\n",
              "      <td>Pittsburgh</td>\n",
              "    </tr>\n",
              "    <tr>\n",
              "      <th>3421</th>\n",
              "      <td>41</td>\n",
              "      <td>2016-03-13</td>\n",
              "      <td>0.78</td>\n",
              "      <td>1177309.05</td>\n",
              "      <td>647713.47</td>\n",
              "      <td>217853.54</td>\n",
              "      <td>118454.22</td>\n",
              "      <td>193287.82</td>\n",
              "      <td>178757.16</td>\n",
              "      <td>14527.08</td>\n",
              "      <td>3.58</td>\n",
              "      <td>conventional</td>\n",
              "      <td>2016</td>\n",
              "      <td>DallasFtWorth</td>\n",
              "    </tr>\n",
              "  </tbody>\n",
              "</table>\n",
              "</div>"
            ],
            "text/plain": [
              "       Unnamed: 0        Date  AveragePrice  ...          type  year         region\n",
              "14957           4  2017-12-03          1.88  ...       organic  2017         Boston\n",
              "4594           18  2016-08-21          1.42  ...  conventional  2016     Pittsburgh\n",
              "16577          34  2017-05-07          1.51  ...       organic  2017     Pittsburgh\n",
              "3421           41  2016-03-13          0.78  ...  conventional  2016  DallasFtWorth\n",
              "\n",
              "[4 rows x 14 columns]"
            ]
          },
          "metadata": {
            "tags": []
          },
          "execution_count": 90
        }
      ]
    },
    {
      "cell_type": "code",
      "metadata": {
        "id": "cAkZesyKPSEN"
      },
      "source": [
        "df.drop('Unnamed: 0', axis=1, inplace=True)"
      ],
      "execution_count": null,
      "outputs": []
    },
    {
      "cell_type": "markdown",
      "metadata": {
        "id": "zOK3kEPWoW-L"
      },
      "source": [
        "Verificação de atributos com valores faltantes:"
      ]
    },
    {
      "cell_type": "code",
      "metadata": {
        "id": "4PBc-gEsoTk3",
        "outputId": "1495bcdd-8b01-4816-ef25-69ba56f26d8b",
        "colab": {
          "base_uri": "https://localhost:8080/"
        }
      },
      "source": [
        "df.isnull().sum()"
      ],
      "execution_count": null,
      "outputs": [
        {
          "output_type": "execute_result",
          "data": {
            "text/plain": [
              "Date            0\n",
              "AveragePrice    0\n",
              "Total Volume    0\n",
              "4046            0\n",
              "4225            0\n",
              "4770            0\n",
              "Total Bags      0\n",
              "Small Bags      0\n",
              "Large Bags      0\n",
              "XLarge Bags     0\n",
              "type            0\n",
              "year            0\n",
              "region          0\n",
              "dtype: int64"
            ]
          },
          "metadata": {
            "tags": []
          },
          "execution_count": 92
        }
      ]
    },
    {
      "cell_type": "markdown",
      "metadata": {
        "id": "uctZo179oZKQ"
      },
      "source": [
        "Não há valores faltantes de qualquer atributo em qualquer instância."
      ]
    },
    {
      "cell_type": "markdown",
      "metadata": {
        "id": "tLm6OF57of1L"
      },
      "source": [
        "Confirmando o número de instâncias do Dataframe/Dataset e o tipo de dado de cada atributo:"
      ]
    },
    {
      "cell_type": "code",
      "metadata": {
        "id": "x4ZHpBe0ogUv",
        "outputId": "0e3480c8-b44f-46ee-8e87-676d793c05ae",
        "colab": {
          "base_uri": "https://localhost:8080/"
        }
      },
      "source": [
        "df.info()"
      ],
      "execution_count": null,
      "outputs": [
        {
          "output_type": "stream",
          "text": [
            "<class 'pandas.core.frame.DataFrame'>\n",
            "RangeIndex: 18249 entries, 0 to 18248\n",
            "Data columns (total 13 columns):\n",
            " #   Column        Non-Null Count  Dtype  \n",
            "---  ------        --------------  -----  \n",
            " 0   Date          18249 non-null  object \n",
            " 1   AveragePrice  18249 non-null  float64\n",
            " 2   Total Volume  18249 non-null  float64\n",
            " 3   4046          18249 non-null  float64\n",
            " 4   4225          18249 non-null  float64\n",
            " 5   4770          18249 non-null  float64\n",
            " 6   Total Bags    18249 non-null  float64\n",
            " 7   Small Bags    18249 non-null  float64\n",
            " 8   Large Bags    18249 non-null  float64\n",
            " 9   XLarge Bags   18249 non-null  float64\n",
            " 10  type          18249 non-null  object \n",
            " 11  year          18249 non-null  int64  \n",
            " 12  region        18249 non-null  object \n",
            "dtypes: float64(9), int64(1), object(3)\n",
            "memory usage: 1.8+ MB\n"
          ],
          "name": "stdout"
        }
      ]
    },
    {
      "cell_type": "markdown",
      "metadata": {
        "id": "20sQGtATouIX"
      },
      "source": [
        "Na importação, o atributo Date veio em formato objeto. Portanto, a fim de facilitar sua manipulação, ele será transformado em formato Datetime e dividido em atributos de ano, mês e dia:"
      ]
    },
    {
      "cell_type": "code",
      "metadata": {
        "id": "1WoFNAK-Yxag"
      },
      "source": [
        "df['Date'] = pd.to_datetime(df['Date'])\n",
        "df['Year'] = df['Date'].dt.year\n",
        "df['Month'] = df['Date'].dt.month\n",
        "df['Day'] = df['Date'].dt.day\n",
        "df.drop('Date', axis=1, inplace=True)"
      ],
      "execution_count": null,
      "outputs": []
    },
    {
      "cell_type": "code",
      "metadata": {
        "id": "Ect-W9chPX6u",
        "outputId": "b06f3f1f-e5ec-475a-ad87-93807a188acf",
        "colab": {
          "base_uri": "https://localhost:8080/",
          "height": 206
        }
      },
      "source": [
        "df.sample(4)"
      ],
      "execution_count": null,
      "outputs": [
        {
          "output_type": "execute_result",
          "data": {
            "text/html": [
              "<div>\n",
              "<style scoped>\n",
              "    .dataframe tbody tr th:only-of-type {\n",
              "        vertical-align: middle;\n",
              "    }\n",
              "\n",
              "    .dataframe tbody tr th {\n",
              "        vertical-align: top;\n",
              "    }\n",
              "\n",
              "    .dataframe thead th {\n",
              "        text-align: right;\n",
              "    }\n",
              "</style>\n",
              "<table border=\"1\" class=\"dataframe\">\n",
              "  <thead>\n",
              "    <tr style=\"text-align: right;\">\n",
              "      <th></th>\n",
              "      <th>AveragePrice</th>\n",
              "      <th>Total Volume</th>\n",
              "      <th>4046</th>\n",
              "      <th>4225</th>\n",
              "      <th>4770</th>\n",
              "      <th>Total Bags</th>\n",
              "      <th>Small Bags</th>\n",
              "      <th>Large Bags</th>\n",
              "      <th>XLarge Bags</th>\n",
              "      <th>type</th>\n",
              "      <th>year</th>\n",
              "      <th>region</th>\n",
              "      <th>Year</th>\n",
              "      <th>Month</th>\n",
              "      <th>Day</th>\n",
              "    </tr>\n",
              "  </thead>\n",
              "  <tbody>\n",
              "    <tr>\n",
              "      <th>5983</th>\n",
              "      <td>0.76</td>\n",
              "      <td>8153340.48</td>\n",
              "      <td>3089603.62</td>\n",
              "      <td>2659661.41</td>\n",
              "      <td>106559.24</td>\n",
              "      <td>2297516.21</td>\n",
              "      <td>2207074.93</td>\n",
              "      <td>61563.24</td>\n",
              "      <td>28878.04</td>\n",
              "      <td>conventional</td>\n",
              "      <td>2017</td>\n",
              "      <td>California</td>\n",
              "      <td>2017</td>\n",
              "      <td>1</td>\n",
              "      <td>22</td>\n",
              "    </tr>\n",
              "    <tr>\n",
              "      <th>6543</th>\n",
              "      <td>1.76</td>\n",
              "      <td>259782.83</td>\n",
              "      <td>9173.43</td>\n",
              "      <td>191483.01</td>\n",
              "      <td>549.47</td>\n",
              "      <td>58576.92</td>\n",
              "      <td>46887.32</td>\n",
              "      <td>8666.82</td>\n",
              "      <td>3022.78</td>\n",
              "      <td>conventional</td>\n",
              "      <td>2017</td>\n",
              "      <td>HartfordSpringfield</td>\n",
              "      <td>2017</td>\n",
              "      <td>7</td>\n",
              "      <td>2</td>\n",
              "    </tr>\n",
              "    <tr>\n",
              "      <th>16965</th>\n",
              "      <td>1.52</td>\n",
              "      <td>16775.97</td>\n",
              "      <td>2363.28</td>\n",
              "      <td>9429.06</td>\n",
              "      <td>0.00</td>\n",
              "      <td>4983.63</td>\n",
              "      <td>3266.31</td>\n",
              "      <td>1717.32</td>\n",
              "      <td>0.00</td>\n",
              "      <td>organic</td>\n",
              "      <td>2017</td>\n",
              "      <td>SanDiego</td>\n",
              "      <td>2017</td>\n",
              "      <td>1</td>\n",
              "      <td>8</td>\n",
              "    </tr>\n",
              "    <tr>\n",
              "      <th>17458</th>\n",
              "      <td>1.94</td>\n",
              "      <td>1125443.38</td>\n",
              "      <td>116338.61</td>\n",
              "      <td>237876.77</td>\n",
              "      <td>1182.85</td>\n",
              "      <td>769536.90</td>\n",
              "      <td>639021.62</td>\n",
              "      <td>130401.43</td>\n",
              "      <td>113.85</td>\n",
              "      <td>organic</td>\n",
              "      <td>2017</td>\n",
              "      <td>TotalUS</td>\n",
              "      <td>2017</td>\n",
              "      <td>9</td>\n",
              "      <td>24</td>\n",
              "    </tr>\n",
              "  </tbody>\n",
              "</table>\n",
              "</div>"
            ],
            "text/plain": [
              "       AveragePrice  Total Volume        4046  ...  Year  Month  Day\n",
              "5983           0.76    8153340.48  3089603.62  ...  2017      1   22\n",
              "6543           1.76     259782.83     9173.43  ...  2017      7    2\n",
              "16965          1.52      16775.97     2363.28  ...  2017      1    8\n",
              "17458          1.94    1125443.38   116338.61  ...  2017      9   24\n",
              "\n",
              "[4 rows x 15 columns]"
            ]
          },
          "metadata": {
            "tags": []
          },
          "execution_count": 95
        }
      ]
    },
    {
      "cell_type": "markdown",
      "metadata": {
        "id": "9gnWvzHMpBJQ"
      },
      "source": [
        "Caso posteriormente seja útil saber as correlações (neste caso usou-se Pearson) entre os atributos preditivos para algum algoritmo:"
      ]
    },
    {
      "cell_type": "code",
      "metadata": {
        "id": "689HfdBWpLo3",
        "outputId": "78135bd6-4e4f-41c0-a7c6-a94a01fcb8ff",
        "colab": {
          "base_uri": "https://localhost:8080/",
          "height": 319
        }
      },
      "source": [
        "plt.figure(figsize = (11,4))\n",
        "sns.heatmap(df.corr(method='pearson'), cmap='Blues',  linewidth=0.5, annot=True);"
      ],
      "execution_count": null,
      "outputs": [
        {
          "output_type": "display_data",
          "data": {
            "image/png": "[encoded data removed]",
            "text/plain": [
              "<Figure size 792x288 with 2 Axes>"
            ]
          },
          "metadata": {
            "tags": [],
            "needs_background": "light"
          }
        }
      ]
    },
    {
      "cell_type": "markdown",
      "metadata": {
        "id": "tiMR7t0ppw4w"
      },
      "source": [
        "**4 - DATA PREPARATION:**"
      ]
    },
    {
      "cell_type": "markdown",
      "metadata": {
        "id": "7Cvz7UHXM5ke"
      },
      "source": [
        "Conforme sua documentação (disponibilizada em https://scikit-learn.org/stable/modules/tree.html), a biblioteca scikit-learn usa uma versão otimizada do algoritmo CART (Classification and Regression Trees), que suporta atributos target numéricos (problemas de regressão) mas, no entanto, a implementação do scikit-learn não oferece suporte a variáveis categóricas por enquanto.\n",
        "\n",
        "Por isso, na sequência iremos lidar com aos atributos \"type\" e \"region\"."
      ]
    },
    {
      "cell_type": "code",
      "metadata": {
        "id": "8f_eXvY7oquJ",
        "outputId": "8444dc4d-ede6-415c-fbe4-31452b7b6d39",
        "colab": {
          "base_uri": "https://localhost:8080/"
        }
      },
      "source": [
        "len(df['region'].unique())"
      ],
      "execution_count": null,
      "outputs": [
        {
          "output_type": "execute_result",
          "data": {
            "text/plain": [
              "54"
            ]
          },
          "metadata": {
            "tags": []
          },
          "execution_count": 97
        }
      ]
    },
    {
      "cell_type": "markdown",
      "metadata": {
        "id": "gF322kFgiq02"
      },
      "source": [
        "Como tranformar uma variável categórica com 54 possíveis valores em variáveis numéricas (sem umaordem arbitrária) aumentaria demais o número de atributos e dimensionalidade do problema, optou-se por retirar o atributo \"Region\" do dataset."
      ]
    },
    {
      "cell_type": "code",
      "metadata": {
        "id": "aRqE0btwitZ_"
      },
      "source": [
        "df.drop('region', axis=1, inplace=True)"
      ],
      "execution_count": null,
      "outputs": []
    },
    {
      "cell_type": "markdown",
      "metadata": {
        "id": "GIg1UWaX0wC4"
      },
      "source": [
        "verificando a correlação dos atributos com o atributo TotalBags"
      ]
    },
    {
      "cell_type": "code",
      "metadata": {
        "id": "Wvhx0km-0vMg",
        "outputId": "b53b3382-ecc3-48e3-e82a-72e519f8ba7b",
        "colab": {
          "base_uri": "https://localhost:8080/"
        }
      },
      "source": [
        "df.corr()['Total Bags'].sort_values(ascending = False)"
      ],
      "execution_count": null,
      "outputs": [
        {
          "output_type": "execute_result",
          "data": {
            "text/plain": [
              "Total Bags      1.000000\n",
              "Small Bags      0.994335\n",
              "Total Volume    0.963047\n",
              "Large Bags      0.943009\n",
              "4046            0.920057\n",
              "4225            0.905787\n",
              "XLarge Bags     0.804233\n",
              "4770            0.792314\n",
              "Year            0.071552\n",
              "year            0.071552\n",
              "Day            -0.004988\n",
              "Month          -0.022724\n",
              "AveragePrice   -0.177088\n",
              "Name: Total Bags, dtype: float64"
            ]
          },
          "metadata": {
            "tags": []
          },
          "execution_count": 99
        }
      ]
    },
    {
      "cell_type": "markdown",
      "metadata": {
        "id": "UKfKmcXM1vHF"
      },
      "source": [
        "Como a correlação entre os atributos Small Bags, Large Bags e Total Bags é muito próxima de 1, os atributos de tamanhos pequeno e grande de sacolas serão removidos, deixando somente o atributo de sacolas totais vendidas (Total Bags) e de sacolas muito grande vendidas (XLarge Bags):"
      ]
    },
    {
      "cell_type": "code",
      "metadata": {
        "id": "TTwBwJM51upb"
      },
      "source": [
        "df.drop(labels = ['Small Bags','Large Bags'],axis = 1, inplace = True)"
      ],
      "execution_count": null,
      "outputs": []
    },
    {
      "cell_type": "markdown",
      "metadata": {
        "id": "t6_e1kSpNp2Z"
      },
      "source": [
        "Efetuando uma mudança de tipo de escala do atributo \"type\" de categórico/nominal para quantitativo binário (0 para avocado convencional ou 1 para avocado orgânico):"
      ]
    },
    {
      "cell_type": "code",
      "metadata": {
        "id": "FUQmzJII_M8T"
      },
      "source": [
        "from sklearn.preprocessing import LabelEncoder\n",
        "label = LabelEncoder()\n",
        "dicts = {}\n",
        "\n",
        "label.fit(df.type.drop_duplicates()) \n",
        "dicts['type'] = list(label.classes_)\n",
        "df.type = label.transform(df.type) "
      ],
      "execution_count": null,
      "outputs": []
    },
    {
      "cell_type": "code",
      "metadata": {
        "id": "deGVu-_6PhkA",
        "outputId": "f0d79eb5-610f-4c83-8b3e-3c41ff71719d",
        "colab": {
          "base_uri": "https://localhost:8080/",
          "height": 169
        }
      },
      "source": [
        "df.sample(4)"
      ],
      "execution_count": null,
      "outputs": [
        {
          "output_type": "execute_result",
          "data": {
            "text/html": [
              "<div>\n",
              "<style scoped>\n",
              "    .dataframe tbody tr th:only-of-type {\n",
              "        vertical-align: middle;\n",
              "    }\n",
              "\n",
              "    .dataframe tbody tr th {\n",
              "        vertical-align: top;\n",
              "    }\n",
              "\n",
              "    .dataframe thead th {\n",
              "        text-align: right;\n",
              "    }\n",
              "</style>\n",
              "<table border=\"1\" class=\"dataframe\">\n",
              "  <thead>\n",
              "    <tr style=\"text-align: right;\">\n",
              "      <th></th>\n",
              "      <th>AveragePrice</th>\n",
              "      <th>Total Volume</th>\n",
              "      <th>4046</th>\n",
              "      <th>4225</th>\n",
              "      <th>4770</th>\n",
              "      <th>Total Bags</th>\n",
              "      <th>XLarge Bags</th>\n",
              "      <th>type</th>\n",
              "      <th>year</th>\n",
              "      <th>Year</th>\n",
              "      <th>Month</th>\n",
              "      <th>Day</th>\n",
              "    </tr>\n",
              "  </thead>\n",
              "  <tbody>\n",
              "    <tr>\n",
              "      <th>9380</th>\n",
              "      <td>1.91</td>\n",
              "      <td>3098.29</td>\n",
              "      <td>15.18</td>\n",
              "      <td>948.71</td>\n",
              "      <td>0.00</td>\n",
              "      <td>2134.40</td>\n",
              "      <td>0.00</td>\n",
              "      <td>1</td>\n",
              "      <td>2015</td>\n",
              "      <td>2015</td>\n",
              "      <td>2</td>\n",
              "      <td>8</td>\n",
              "    </tr>\n",
              "    <tr>\n",
              "      <th>8967</th>\n",
              "      <td>1.15</td>\n",
              "      <td>591211.37</td>\n",
              "      <td>160917.18</td>\n",
              "      <td>362263.89</td>\n",
              "      <td>1136.97</td>\n",
              "      <td>66893.33</td>\n",
              "      <td>5046.73</td>\n",
              "      <td>0</td>\n",
              "      <td>2018</td>\n",
              "      <td>2018</td>\n",
              "      <td>1</td>\n",
              "      <td>21</td>\n",
              "    </tr>\n",
              "    <tr>\n",
              "      <th>10709</th>\n",
              "      <td>1.96</td>\n",
              "      <td>8067.82</td>\n",
              "      <td>20.58</td>\n",
              "      <td>1104.69</td>\n",
              "      <td>0.00</td>\n",
              "      <td>6942.55</td>\n",
              "      <td>0.00</td>\n",
              "      <td>1</td>\n",
              "      <td>2015</td>\n",
              "      <td>2015</td>\n",
              "      <td>7</td>\n",
              "      <td>19</td>\n",
              "    </tr>\n",
              "    <tr>\n",
              "      <th>4239</th>\n",
              "      <td>0.97</td>\n",
              "      <td>293340.02</td>\n",
              "      <td>162451.07</td>\n",
              "      <td>39328.87</td>\n",
              "      <td>267.67</td>\n",
              "      <td>91292.41</td>\n",
              "      <td>4425.00</td>\n",
              "      <td>0</td>\n",
              "      <td>2016</td>\n",
              "      <td>2016</td>\n",
              "      <td>6</td>\n",
              "      <td>19</td>\n",
              "    </tr>\n",
              "  </tbody>\n",
              "</table>\n",
              "</div>"
            ],
            "text/plain": [
              "       AveragePrice  Total Volume       4046       4225  ...  year  Year  Month  Day\n",
              "9380           1.91       3098.29      15.18     948.71  ...  2015  2015      2    8\n",
              "8967           1.15     591211.37  160917.18  362263.89  ...  2018  2018      1   21\n",
              "10709          1.96       8067.82      20.58    1104.69  ...  2015  2015      7   19\n",
              "4239           0.97     293340.02  162451.07   39328.87  ...  2016  2016      6   19\n",
              "\n",
              "[4 rows x 12 columns]"
            ]
          },
          "metadata": {
            "tags": []
          },
          "execution_count": 102
        }
      ]
    },
    {
      "cell_type": "markdown",
      "metadata": {
        "id": "YfkAr-ZjqdTX"
      },
      "source": [
        "Verificando os quartir para possibilitar a identificação de possíveis outliers (que, dependendo do algortimo que será implementado, é necessário tratar), através do cálculos dos quartis de cada atributo e dos seus mínimos e máximos:"
      ]
    },
    {
      "cell_type": "markdown",
      "metadata": {
        "id": "xUIFpzpYqGj7"
      },
      "source": [
        "Quartis 1 (25%) e 3 (75%) e distância interquartis :"
      ]
    },
    {
      "cell_type": "code",
      "metadata": {
        "id": "URrLP1LsreqL",
        "outputId": "353f957e-b298-4168-c9b8-a943e50b3dba",
        "colab": {
          "base_uri": "https://localhost:8080/"
        }
      },
      "source": [
        "Q1 = df.quantile(0.25)\n",
        "Q3 = df.quantile(0.75)\n",
        "IQR = Q3 - Q1\n",
        "print('Q1:\\n\\n',Q1,'\\n\\nQ3:\\n\\n', Q3,'\\n\\nIQR:\\n\\n',IQR)"
      ],
      "execution_count": null,
      "outputs": [
        {
          "output_type": "stream",
          "text": [
            "Q1:\n",
            "\n",
            " AveragePrice        1.10\n",
            "Total Volume    10838.58\n",
            "4046              854.07\n",
            "4225             3008.78\n",
            "4770                0.00\n",
            "Total Bags       5088.64\n",
            "XLarge Bags         0.00\n",
            "type                0.00\n",
            "year             2015.00\n",
            "Year             2015.00\n",
            "Month               3.00\n",
            "Day                 8.00\n",
            "Name: 0.25, dtype: float64 \n",
            "\n",
            "Q3:\n",
            "\n",
            " AveragePrice         1.66\n",
            "Total Volume    432962.29\n",
            "4046            111020.20\n",
            "4225            150206.86\n",
            "4770              6243.42\n",
            "Total Bags      110783.37\n",
            "XLarge Bags        132.50\n",
            "type                 1.00\n",
            "year              2017.00\n",
            "Year              2017.00\n",
            "Month                9.00\n",
            "Day                 23.00\n",
            "Name: 0.75, dtype: float64 \n",
            "\n",
            "IQR:\n",
            "\n",
            " AveragePrice         0.56\n",
            "Total Volume    422123.71\n",
            "4046            110166.13\n",
            "4225            147198.08\n",
            "4770              6243.42\n",
            "Total Bags      105694.73\n",
            "XLarge Bags        132.50\n",
            "type                 1.00\n",
            "year                 2.00\n",
            "Year                 2.00\n",
            "Month                6.00\n",
            "Day                 15.00\n",
            "dtype: float64\n"
          ],
          "name": "stdout"
        }
      ]
    },
    {
      "cell_type": "markdown",
      "metadata": {
        "id": "d23mxptAsOyu"
      },
      "source": [
        "Mínimos de cada atributo (Lower Whisker):"
      ]
    },
    {
      "cell_type": "code",
      "metadata": {
        "id": "OrchhI5Ksqmh",
        "outputId": "f2ff85fd-6ac8-4223-a9c0-15c92a02dbf1",
        "colab": {
          "base_uri": "https://localhost:8080/"
        }
      },
      "source": [
        "Upper_Whisker = Q3 + 1.5 * IQR\n",
        "Lower_Whisker = Q1 - 1.5 * IQR\n",
        "print('UPPER WHISKER:\\n',Upper_Whisker,'\\n\\n','LOWER WHISKER:\\n', Lower_Whisker)"
      ],
      "execution_count": null,
      "outputs": [
        {
          "output_type": "stream",
          "text": [
            "UPPER WHISKER:\n",
            " AveragePrice          2.500\n",
            "Total Volume    1066147.855\n",
            "4046             276269.395\n",
            "4225             371003.980\n",
            "4770              15608.550\n",
            "Total Bags       269325.465\n",
            "XLarge Bags         331.250\n",
            "type                  2.500\n",
            "year               2020.000\n",
            "Year               2020.000\n",
            "Month                18.000\n",
            "Day                  45.500\n",
            "dtype: float64 \n",
            "\n",
            " LOWER WHISKER:\n",
            " AveragePrice         0.260\n",
            "Total Volume   -622346.985\n",
            "4046           -164395.125\n",
            "4225           -217788.340\n",
            "4770             -9365.130\n",
            "Total Bags     -153453.455\n",
            "XLarge Bags       -198.750\n",
            "type                -1.500\n",
            "year              2012.000\n",
            "Year              2012.000\n",
            "Month               -6.000\n",
            "Day                -14.500\n",
            "dtype: float64\n"
          ],
          "name": "stdout"
        }
      ]
    },
    {
      "cell_type": "markdown",
      "metadata": {
        "id": "4vzKwg2NtBNS"
      },
      "source": [
        "Instâncias com possíveis outliers em alguns dos atributos (principais atributos numéricos):"
      ]
    },
    {
      "cell_type": "code",
      "metadata": {
        "id": "wLRgdQf2tFUc",
        "outputId": "d4af2c37-b97e-4d2d-9c7e-ef5c05c63bd7",
        "colab": {
          "base_uri": "https://localhost:8080/",
          "height": 410
        }
      },
      "source": [
        "df[['AveragePrice', 'Total Volume', '4046', '4225', '4770']].loc[\n",
        "\n",
        "(df['AveragePrice'] < 0.260) |\n",
        "(df['Total Volume'] < -622346.985) |\n",
        "(df['4046'] < -164395.125) |\n",
        "(df['4225'] < -217788.340) |\n",
        "(df['4770'] < -9365.130) |\n",
        "\n",
        "(df['Total Volume'] > 1066147.855) |\n",
        "(df['4046'] > 276269.395) |\n",
        "(df['4225'] > 371003.980) |\n",
        "(df['4770'] > 15608.550)]"
      ],
      "execution_count": null,
      "outputs": [
        {
          "output_type": "execute_result",
          "data": {
            "text/html": [
              "<div>\n",
              "<style scoped>\n",
              "    .dataframe tbody tr th:only-of-type {\n",
              "        vertical-align: middle;\n",
              "    }\n",
              "\n",
              "    .dataframe tbody tr th {\n",
              "        vertical-align: top;\n",
              "    }\n",
              "\n",
              "    .dataframe thead th {\n",
              "        text-align: right;\n",
              "    }\n",
              "</style>\n",
              "<table border=\"1\" class=\"dataframe\">\n",
              "  <thead>\n",
              "    <tr style=\"text-align: right;\">\n",
              "      <th></th>\n",
              "      <th>AveragePrice</th>\n",
              "      <th>Total Volume</th>\n",
              "      <th>4046</th>\n",
              "      <th>4225</th>\n",
              "      <th>4770</th>\n",
              "    </tr>\n",
              "  </thead>\n",
              "  <tbody>\n",
              "    <tr>\n",
              "      <th>52</th>\n",
              "      <td>0.99</td>\n",
              "      <td>386100.49</td>\n",
              "      <td>292097.36</td>\n",
              "      <td>27350.92</td>\n",
              "      <td>297.90</td>\n",
              "    </tr>\n",
              "    <tr>\n",
              "      <th>54</th>\n",
              "      <td>0.96</td>\n",
              "      <td>417772.47</td>\n",
              "      <td>324932.28</td>\n",
              "      <td>31019.08</td>\n",
              "      <td>275.80</td>\n",
              "    </tr>\n",
              "    <tr>\n",
              "      <th>55</th>\n",
              "      <td>1.07</td>\n",
              "      <td>357636.82</td>\n",
              "      <td>283024.01</td>\n",
              "      <td>23740.85</td>\n",
              "      <td>181.92</td>\n",
              "    </tr>\n",
              "    <tr>\n",
              "      <th>60</th>\n",
              "      <td>0.99</td>\n",
              "      <td>419088.74</td>\n",
              "      <td>290457.50</td>\n",
              "      <td>62980.07</td>\n",
              "      <td>252.79</td>\n",
              "    </tr>\n",
              "    <tr>\n",
              "      <th>66</th>\n",
              "      <td>0.93</td>\n",
              "      <td>516432.60</td>\n",
              "      <td>346118.51</td>\n",
              "      <td>82762.72</td>\n",
              "      <td>1349.41</td>\n",
              "    </tr>\n",
              "    <tr>\n",
              "      <th>...</th>\n",
              "      <td>...</td>\n",
              "      <td>...</td>\n",
              "      <td>...</td>\n",
              "      <td>...</td>\n",
              "      <td>...</td>\n",
              "    </tr>\n",
              "    <tr>\n",
              "      <th>18220</th>\n",
              "      <td>1.53</td>\n",
              "      <td>1384683.41</td>\n",
              "      <td>117922.52</td>\n",
              "      <td>287724.61</td>\n",
              "      <td>1703.52</td>\n",
              "    </tr>\n",
              "    <tr>\n",
              "      <th>18221</th>\n",
              "      <td>1.61</td>\n",
              "      <td>1336979.09</td>\n",
              "      <td>118616.17</td>\n",
              "      <td>280080.34</td>\n",
              "      <td>1270.61</td>\n",
              "    </tr>\n",
              "    <tr>\n",
              "      <th>18222</th>\n",
              "      <td>1.63</td>\n",
              "      <td>1283987.65</td>\n",
              "      <td>108705.28</td>\n",
              "      <td>259172.13</td>\n",
              "      <td>1490.02</td>\n",
              "    </tr>\n",
              "    <tr>\n",
              "      <th>18223</th>\n",
              "      <td>1.59</td>\n",
              "      <td>1476651.08</td>\n",
              "      <td>145680.62</td>\n",
              "      <td>323669.83</td>\n",
              "      <td>1580.01</td>\n",
              "    </tr>\n",
              "    <tr>\n",
              "      <th>18224</th>\n",
              "      <td>1.51</td>\n",
              "      <td>1517332.70</td>\n",
              "      <td>129541.43</td>\n",
              "      <td>296490.29</td>\n",
              "      <td>1289.07</td>\n",
              "    </tr>\n",
              "  </tbody>\n",
              "</table>\n",
              "<p>4494 rows × 5 columns</p>\n",
              "</div>"
            ],
            "text/plain": [
              "       AveragePrice  Total Volume       4046       4225     4770\n",
              "52             0.99     386100.49  292097.36   27350.92   297.90\n",
              "54             0.96     417772.47  324932.28   31019.08   275.80\n",
              "55             1.07     357636.82  283024.01   23740.85   181.92\n",
              "60             0.99     419088.74  290457.50   62980.07   252.79\n",
              "66             0.93     516432.60  346118.51   82762.72  1349.41\n",
              "...             ...           ...        ...        ...      ...\n",
              "18220          1.53    1384683.41  117922.52  287724.61  1703.52\n",
              "18221          1.61    1336979.09  118616.17  280080.34  1270.61\n",
              "18222          1.63    1283987.65  108705.28  259172.13  1490.02\n",
              "18223          1.59    1476651.08  145680.62  323669.83  1580.01\n",
              "18224          1.51    1517332.70  129541.43  296490.29  1289.07\n",
              "\n",
              "[4494 rows x 5 columns]"
            ]
          },
          "metadata": {
            "tags": []
          },
          "execution_count": 105
        }
      ]
    },
    {
      "cell_type": "markdown",
      "metadata": {
        "id": "C3CTPIbXtQDo"
      },
      "source": [
        "O dataset não apresenta valores faltantes, assim como não parece apresentar valores com ruído ou inconsistentes, apenas outliers. Outliers são valores incomuns mas que podem ser legítimos/reais, ou ainda inesperados num contexto local em que ocorrem mas que no contexto global poderiam ser valores esperados.  Ainda assim, normalmente distorcem o treino do modelo e causam modelos com maiores erros associados (modelos não costumam prever casos extremos), e por isso usualmente outliers são tratados ou retirados. O quanto influenciam na qualidade do modelo depende de que algoritmo se utiliza, bem como se se trata de um método de classificação, regressão etc. Neste trabalho os outliers serão tratados/eliminados se e quando necessário, visto que nem todos algoritmos são sensíveis a eles.\n"
      ]
    },
    {
      "cell_type": "markdown",
      "metadata": {
        "id": "QhruehLuqpCW"
      },
      "source": [
        "**5 - MODELING**"
      ]
    },
    {
      "cell_type": "markdown",
      "metadata": {
        "id": "ewE1OTD9YDcV"
      },
      "source": [
        "*5.1 - RANDOM FOREST:*"
      ]
    },
    {
      "cell_type": "markdown",
      "metadata": {
        "id": "iIxZQoVOVu3q"
      },
      "source": [
        "Random Forest é um algoritmo de ensemble learning. Este tipo de algorito utilizaa uma combinação de vários modelos base instáveis (a fim de promover variabilidade) de maneira homogênea (todos os modelos base são induzidos pelo mesmo algoritmo) ou heterogênea (os modelos base são induzidos por diferentes algoritmos) para, entre outras coisas, diminuir a variância.\n",
        "\n",
        "Random Forest, do pornto de vista de classificação, é um algoritmo cujos modelos ocorrem em paralelo (também há algoritmos de ensemble learning cujos modelos ocorrem de maneira sequencial, como é o caso do Adaboost, por exemplo).\n",
        "\n",
        "Algoritmos paralelos como o Bagging ou o Random Forest são aqueles cujos modelos podem ser processados em paralelo, utilizando o conceito de processamento em paralelo, e obtando rasultados de maneira mais rápida. Por outro lado, altorimos sequenciais como o Adaboost são aqueles cujos modelos são processados em série, ou seja, o modelo de número n apenas é processado quando o modelo n-1 já finalizou. Além disso, o modelo n é induzido pelo modelo n-1 quando se trata do conjunto de instâncias que o modelo n irá usar para treinar, isso porque as instâncias que foram incorretamente previstas/classificadas pelo modelo n-1 receberão um peso maior, e isso aumenta sua chance/frequência/probabilidade de aparecer no conjunto de instâncias que o modelo n irá utilizar para treinar.\n",
        "\n",
        "Por um lado, Árvores de Decisão são modelos de fácil utilização e que não necessitam de pré-processamento dos dados. Por outro, classificação por Árvores de Decisão é um método muito suscetível a overfitting - principalmente quando não se controla adequadamente seus parâmetros de pruning -, e uma forma de melhorar isto é utilizando o método de Florestas Aleatórias, onde é possível criar várias árvores separadas (usando divisões diferentes do conjunto de dados) e dar como resposta da previsão a média das respostas de todas as árvores.\n",
        "\n",
        "Ainda,  os atributos preditivos que são candidatos para servirem como divisores num nó são definidos de forma aleatória (escolhendo-se pra uma divisão o que apresentar melhor resultado - menos impureza por índice de Gini ou Entropia, por exemplo), o que garante que as árvores não tenham correlação entre si e o resultado seja mais preciso."
      ]
    },
    {
      "cell_type": "code",
      "metadata": {
        "id": "qaGfPaojPdsj"
      },
      "source": [
        "from sklearn.model_selection import train_test_split"
      ],
      "execution_count": null,
      "outputs": []
    },
    {
      "cell_type": "code",
      "metadata": {
        "id": "pXQGqebmfl5z"
      },
      "source": [
        "# numpy para converter os dados para arrays\n",
        "Y = np.array(df['type'].values)\n",
        "X = np.array(df.drop('type', axis = 1).values)\n",
        "\n",
        "# Salvando a lista de features para \"backup\"\n",
        "feature_list = list(df.columns)"
      ],
      "execution_count": null,
      "outputs": []
    },
    {
      "cell_type": "markdown",
      "metadata": {
        "id": "08vzXLsOW355"
      },
      "source": [
        "Definindo um split dos dados de treino e teste, onde 30% serão guardados para apenas serem vistos e utilizados pelo modelo no momento de avaliação das métricas de desempenho do mesmo:"
      ]
    },
    {
      "cell_type": "code",
      "metadata": {
        "id": "0RiSUwY2X6F8"
      },
      "source": [
        "X_train, X_test, Y_train, Y_test = train_test_split(X, Y, test_size=0.7, random_state=101)"
      ],
      "execution_count": null,
      "outputs": []
    },
    {
      "cell_type": "code",
      "metadata": {
        "id": "wE9NaDbUeeOG",
        "outputId": "9dfa2bbc-1820-4eb4-830d-5cdb6e7fb0aa",
        "colab": {
          "base_uri": "https://localhost:8080/"
        }
      },
      "source": [
        "print('Training Features Shape:', X_train.shape)\n",
        "print('Training Labels Shape:', Y_train.shape)\n",
        "print('Testing Features Shape:', X_test.shape)\n",
        "print('Testing Labels Shape:', Y_test.shape)"
      ],
      "execution_count": null,
      "outputs": [
        {
          "output_type": "stream",
          "text": [
            "Training Features Shape: (5474, 11)\n",
            "Training Labels Shape: (5474,)\n",
            "Testing Features Shape: (12775, 11)\n",
            "Testing Labels Shape: (12775,)\n"
          ],
          "name": "stdout"
        }
      ]
    },
    {
      "cell_type": "code",
      "metadata": {
        "id": "1wvPwj-6qvWn",
        "outputId": "dc8c3d4a-5df2-4a75-dbf7-646dc3f16252",
        "colab": {
          "base_uri": "https://localhost:8080/"
        }
      },
      "source": [
        "X_train"
      ],
      "execution_count": null,
      "outputs": [
        {
          "output_type": "execute_result",
          "data": {
            "text/plain": [
              "array([[1.4300000e+00, 3.8061268e+05, 7.9261700e+03, ..., 2.0170000e+03,\n",
              "        3.0000000e+00, 1.9000000e+01],\n",
              "       [1.7000000e+00, 1.0629430e+04, 3.5435000e+02, ..., 2.0160000e+03,\n",
              "        1.1000000e+01, 2.0000000e+01],\n",
              "       [1.3300000e+00, 1.0860070e+04, 5.9211200e+03, ..., 2.0150000e+03,\n",
              "        1.2000000e+01, 2.7000000e+01],\n",
              "       ...,\n",
              "       [1.6000000e+00, 2.4825500e+04, 6.5164000e+03, ..., 2.0180000e+03,\n",
              "        3.0000000e+00, 2.5000000e+01],\n",
              "       [1.3600000e+00, 7.8015200e+03, 1.8318000e+02, ..., 2.0180000e+03,\n",
              "        2.0000000e+00, 1.1000000e+01],\n",
              "       [1.8000000e+00, 2.1099000e+03, 2.6800000e+00, ..., 2.0160000e+03,\n",
              "        7.0000000e+00, 2.4000000e+01]])"
            ]
          },
          "metadata": {
            "tags": []
          },
          "execution_count": 110
        }
      ]
    },
    {
      "cell_type": "code",
      "metadata": {
        "id": "eleLi58TYLgN"
      },
      "source": [
        "from sklearn.ensemble import RandomForestClassifier"
      ],
      "execution_count": null,
      "outputs": []
    },
    {
      "cell_type": "code",
      "metadata": {
        "id": "jkqMn3OjYQK-"
      },
      "source": [
        "# deve-se passar o número de modelos/estimadores/árvores como hiper-parâmetro do modelo ensemble de Floresta Aleatória\n",
        "RF_model = RandomForestClassifier(max_depth=10, min_samples_split=0.1, min_samples_leaf=0.2, max_features='sqrt',\n",
        "                                  bootstrap=True, oob_score=True, criterion='entropy', n_estimators=100) "
      ],
      "execution_count": null,
      "outputs": []
    },
    {
      "cell_type": "markdown",
      "metadata": {
        "id": "arQfYx4bcfFA"
      },
      "source": [
        "HIPERPARÂMETROS:\n",
        "\n",
        "- max_depth: máxima profundidade (usou-se 10 - se muito elevado, causa overfitting)\n",
        "\n",
        "- min_samples_split: porcentagem mínima de instâncias em relação ao número total que é necessário para realizar um split em um nó interno (usou-se 0.1 -  se muito elevado, causa underfitting, se muito baixo, causa overfitting)\n",
        "\n",
        "- min_samples_leaf:  porcentagem mínima de instâncias em relação ao número total por folha (usou-se 0.2 - se muito elevado, causa underfitting, se muito baixo, causa overfitting)\n",
        "\n",
        "- max_features: número de atributos que serão aleatoriamento sorteados para verificar qual faz melhor o split (usou-se \"sqrt\", que significa que serão escolhidos sqrt(X) antributos, onde X é o número de atributos do dataframe\n",
        "\n",
        "- bootstrap: amostragem do tipo bootstrap (usou-se \"True\")\n",
        "\n",
        "- oob_score: métricas serão testadas no conjunto de dados out-of-bag (usou-se \"True\")\n",
        "\n",
        "- criterion: critério de avaliação da impureza (usou-se Entropia, tmabém poderia ser índice de Gini, por exemplo)\n",
        "\n",
        "- n_estimators: número de árvores/modelos construídos (usou-se 2, 10, 25,50, 100, 300, 1000 e 2000)\n",
        "\n",
        "O ideal seria tunar cada um dos hiperparâmetros separadamente e avaliar o melhor valor para cada um para este dataset, porém, a fim de utilizar o tempo disponível para avaliar outros algoritmos, no presente trabalho isto não será realizado.\n"
      ]
    },
    {
      "cell_type": "code",
      "metadata": {
        "id": "_nmMVYrzYmHI",
        "outputId": "7bb7ce2a-a63a-4801-befc-0cbb4721e820",
        "colab": {
          "base_uri": "https://localhost:8080/"
        }
      },
      "source": [
        "RF_model.fit(X_train, Y_train)"
      ],
      "execution_count": null,
      "outputs": [
        {
          "output_type": "execute_result",
          "data": {
            "text/plain": [
              "RandomForestClassifier(bootstrap=True, ccp_alpha=0.0, class_weight=None,\n",
              "                       criterion='entropy', max_depth=10, max_features='sqrt',\n",
              "                       max_leaf_nodes=None, max_samples=None,\n",
              "                       min_impurity_decrease=0.0, min_impurity_split=None,\n",
              "                       min_samples_leaf=0.2, min_samples_split=0.1,\n",
              "                       min_weight_fraction_leaf=0.0, n_estimators=100,\n",
              "                       n_jobs=None, oob_score=True, random_state=None,\n",
              "                       verbose=0, warm_start=False)"
            ]
          },
          "metadata": {
            "tags": []
          },
          "execution_count": 113
        }
      ]
    },
    {
      "cell_type": "markdown",
      "metadata": {
        "id": "YO8cHqNuX2om"
      },
      "source": [
        "*5.2 - Utilizando de outros algoritmos: Decision Tree Classifier (com critério de entropia), Regressão logística e AdaBoost Classifier:*"
      ]
    },
    {
      "cell_type": "code",
      "metadata": {
        "id": "gpjR4QDTX23f"
      },
      "source": [
        "from sklearn.model_selection import cross_validate,train_test_split, cross_val_score,KFold\n",
        "from sklearn.tree import DecisionTreeClassifier\n",
        "from sklearn.ensemble import AdaBoostClassifier\n",
        "from sklearn.linear_model import LogisticRegression\n",
        "from sklearn.metrics import accuracy_score"
      ],
      "execution_count": null,
      "outputs": []
    },
    {
      "cell_type": "code",
      "metadata": {
        "id": "Sz8Kl98342po",
        "outputId": "c19b8118-f464-4fae-e15b-0956d395382f",
        "colab": {
          "base_uri": "https://localhost:8080/"
        }
      },
      "source": [
        "DT = DecisionTreeClassifier(criterion = 'entropy')\n",
        "print(DT)"
      ],
      "execution_count": null,
      "outputs": [
        {
          "output_type": "stream",
          "text": [
            "DecisionTreeClassifier(ccp_alpha=0.0, class_weight=None, criterion='entropy',\n",
            "                       max_depth=None, max_features=None, max_leaf_nodes=None,\n",
            "                       min_impurity_decrease=0.0, min_impurity_split=None,\n",
            "                       min_samples_leaf=1, min_samples_split=2,\n",
            "                       min_weight_fraction_leaf=0.0, presort='deprecated',\n",
            "                       random_state=None, splitter='best')\n"
          ],
          "name": "stdout"
        }
      ]
    },
    {
      "cell_type": "code",
      "metadata": {
        "id": "TYzfNVVzmJsP",
        "outputId": "101cbb1a-a467-4af2-f88d-68eea5b3df89",
        "colab": {
          "base_uri": "https://localhost:8080/"
        }
      },
      "source": [
        "LG = LogisticRegression(random_state=0)\n",
        "print(LG)"
      ],
      "execution_count": null,
      "outputs": [
        {
          "output_type": "stream",
          "text": [
            "LogisticRegression(C=1.0, class_weight=None, dual=False, fit_intercept=True,\n",
            "                   intercept_scaling=1, l1_ratio=None, max_iter=100,\n",
            "                   multi_class='auto', n_jobs=None, penalty='l2',\n",
            "                   random_state=0, solver='lbfgs', tol=0.0001, verbose=0,\n",
            "                   warm_start=False)\n"
          ],
          "name": "stdout"
        }
      ]
    },
    {
      "cell_type": "code",
      "metadata": {
        "id": "sddIk6tWmMBs",
        "outputId": "8ddc77b1-5d13-4c7d-bdc4-4994e8d793c4",
        "colab": {
          "base_uri": "https://localhost:8080/"
        }
      },
      "source": [
        "ADA = AdaBoostClassifier()\n",
        "print(ADA)"
      ],
      "execution_count": null,
      "outputs": [
        {
          "output_type": "stream",
          "text": [
            "AdaBoostClassifier(algorithm='SAMME.R', base_estimator=None, learning_rate=1.0,\n",
            "                   n_estimators=50, random_state=None)\n"
          ],
          "name": "stdout"
        }
      ]
    },
    {
      "cell_type": "markdown",
      "metadata": {
        "id": "LMsEC22mpljD"
      },
      "source": [
        "Adaboost é um algoritmo de ensemble learning  assim como o Random Forest, porém, ele não funciona apenas com Árvores de Decisão e ocorre de maneira sequencial.\n",
        "\n",
        "Para estes três modelos definidos acima optou-se por não tunar seus hiperparâmetros."
      ]
    },
    {
      "cell_type": "markdown",
      "metadata": {
        "id": "NypwEzVN5GO1"
      },
      "source": [
        "**6 - EVALUATION**"
      ]
    },
    {
      "cell_type": "markdown",
      "metadata": {
        "id": "qjLZywVO5I8z"
      },
      "source": [
        "*6.1 - AVALIAÇÃO RANDOM FOREST:*"
      ]
    },
    {
      "cell_type": "code",
      "metadata": {
        "id": "Qfpna7JDZDkd"
      },
      "source": [
        "RF_pred = RF_model.predict(X_test)"
      ],
      "execution_count": null,
      "outputs": []
    },
    {
      "cell_type": "code",
      "metadata": {
        "id": "AKVeGZmMZN6d"
      },
      "source": [
        "from sklearn.metrics import confusion_matrix\n",
        "#from sklearn.metrics import classification_report"
      ],
      "execution_count": null,
      "outputs": []
    },
    {
      "cell_type": "code",
      "metadata": {
        "id": "jDu8WN_-ZRcn",
        "outputId": "e0485896-cdac-4eb9-be2d-b2c22d7e58f5",
        "colab": {
          "base_uri": "https://localhost:8080/"
        }
      },
      "source": [
        "#print(classification_report(Y_test, RF_pred))\n",
        "#print('\\n')\n",
        "print(confusion_matrix(Y_test, RF_pred))"
      ],
      "execution_count": null,
      "outputs": [
        {
          "output_type": "stream",
          "text": [
            "[[6314   82]\n",
            " [1018 5361]]\n"
          ],
          "name": "stdout"
        }
      ]
    },
    {
      "cell_type": "markdown",
      "metadata": {
        "id": "IiiU3pkO4cA0"
      },
      "source": [
        "Esta matriz é a base para o cálculo de todas as outras métricas de avaliação como accuracy, f1-score, entre outras."
      ]
    },
    {
      "cell_type": "markdown",
      "metadata": {
        "id": "06ZsczxaZWVH"
      },
      "source": [
        "*CROSS-VALIDATION:*"
      ]
    },
    {
      "cell_type": "code",
      "metadata": {
        "id": "ozTWikugZVfy"
      },
      "source": [
        "from sklearn.model_selection import cross_validate"
      ],
      "execution_count": null,
      "outputs": []
    },
    {
      "cell_type": "code",
      "metadata": {
        "id": "GZ9xn-mbRXo3"
      },
      "source": [
        "# 10-FOLD Cross Validation (10 divisões/modelos)\n",
        "scoring = ['accuracy', 'precision', 'recall', 'f1']\n",
        "RF_CV = cross_validate(RF_model, X_train, Y_train, cv=10,  scoring=scoring)"
      ],
      "execution_count": null,
      "outputs": []
    },
    {
      "cell_type": "code",
      "metadata": {
        "id": "UrTvzZPmggEa",
        "outputId": "3837227f-1d9b-4404-f7ce-c54a1f1aac82",
        "colab": {
          "base_uri": "https://localhost:8080/"
        }
      },
      "source": [
        "for k, v in RF_CV.items():\n",
        "    print (k, v)\n",
        "    print('\\n')"
      ],
      "execution_count": null,
      "outputs": [
        {
          "output_type": "stream",
          "text": [
            "fit_time [0.3187561  0.30428481 0.30647469 0.29688716 0.32667994 0.30281258\n",
            " 0.30201411 0.30298734 0.29848289 0.30056596]\n",
            "\n",
            "\n",
            "score_time [0.01181626 0.01178932 0.01194811 0.01180077 0.01187611 0.01181984\n",
            " 0.01152015 0.01170945 0.01162314 0.01186371]\n",
            "\n",
            "\n",
            "test_accuracy [0.9270073  0.93065693 0.91970803 0.8959854  0.92870201 0.91224863\n",
            " 0.91590494 0.92321755 0.91042048 0.91590494]\n",
            "\n",
            "\n",
            "test_precision [0.9916318  0.9958159  0.99148936 0.96982759 0.97188755 0.96311475\n",
            " 0.99137931 0.98333333 0.99559471 0.975     ]\n",
            "\n",
            "\n",
            "test_recall [0.86181818 0.86545455 0.84727273 0.81818182 0.88321168 0.85766423\n",
            " 0.83941606 0.86131387 0.82481752 0.8540146 ]\n",
            "\n",
            "\n",
            "test_f1 [0.92217899 0.92607004 0.91372549 0.88757396 0.92543021 0.90733591\n",
            " 0.90909091 0.91828794 0.90219561 0.91050584]\n",
            "\n",
            "\n"
          ],
          "name": "stdout"
        }
      ]
    },
    {
      "cell_type": "markdown",
      "metadata": {
        "id": "TwpcwQI1VLjL"
      },
      "source": [
        "A taxa de acerto média (accuracy) pode não ser uma boa medida para datasets desbalanceados, o que não é o caso neste datase por isso avalia-se também outras métricas, como o F1-Score, por exemplo, entre outras.\n",
        "\n",
        "A média de tais métricas e o respectivo intervalo de confiança a 95% (equivalente a +/- 2 desvios padrão) da estimativa são:"
      ]
    },
    {
      "cell_type": "code",
      "metadata": {
        "id": "Bbgzopj4VKUy",
        "outputId": "f9f18523-e4d8-40db-8ea3-813c3161fb97",
        "colab": {
          "base_uri": "https://localhost:8080/"
        }
      },
      "source": [
        "print('taxa de acerto média: %0.4f (+/- %0.4f)' % (RF_CV['test_accuracy'].mean(), RF_CV['test_accuracy'].std() * 2))\n",
        "print('\\n')\n",
        "print('precisão média: %0.4f (+/- %0.4f)' % (RF_CV['test_precision'].mean(), RF_CV['test_precision'].std() * 2))\n",
        "print('\\n')\n",
        "print('recall médio: %0.4f (+/- %0.4f)' % (RF_CV['test_recall'].mean(), RF_CV['test_recall'].std() * 2))\n",
        "print('\\n')\n",
        "print('F1-Score médio: %0.4f (+/- %0.4f)' % (RF_CV['test_f1'].mean(), RF_CV['test_f1'].std() * 2))"
      ],
      "execution_count": null,
      "outputs": [
        {
          "output_type": "stream",
          "text": [
            "taxa de acerto média: 0.9180 (+/- 0.0197)\n",
            "\n",
            "\n",
            "precisão média: 0.9829 (+/- 0.0228)\n",
            "\n",
            "\n",
            "recall médio: 0.8513 (+/- 0.0371)\n",
            "\n",
            "\n",
            "F1-Score médio: 0.9122 (+/- 0.0224)\n"
          ],
          "name": "stdout"
        }
      ]
    },
    {
      "cell_type": "markdown",
      "metadata": {
        "id": "gASil3kuN9Rr"
      },
      "source": [
        "*PARA OS HIPERPARÂMETROS MODIFICADOS COMO JÁ MENCIONADO ACIMA:*\n",
        "\n",
        "- PRA 2 ÁRVORES:\n",
        "\n",
        "taxa de acerto média: 0.8913 (+/- 0.0297)\n",
        "\n",
        "precisão média: 0.9160 (+/- 0.0813)\n",
        "\n",
        "recall médio: 0.8659 (+/- 0.0647)\n",
        "\n",
        "F1-Score médio: 0.8889 (+/- 0.0263)\n",
        "\n",
        "- PRA 10 ÁRVORES:\n",
        "\n",
        "taxa de acerto média: 0.9105 (+/- 0.0258)\n",
        "\n",
        "precisão média: 0.9728 (+/- 0.0198)\n",
        "\n",
        "recall médio: 0.8451 (+/- 0.0454)\n",
        "\n",
        "F1-Score médio: 0.9043 (+/- 0.0293)\n",
        "\n",
        "- PRA 25 ÁRVORES:\n",
        "\n",
        "taxa de acerto média: 0.9154 (+/- 0.0212)\n",
        "\n",
        "precisão média: 0.9758 (+/- 0.0172)\n",
        "\n",
        "recall médio: 0.8524 (+/- 0.0372)\n",
        "\n",
        "F1-Score médio: 0.9099 (+/- 0.0238)\n",
        "\n",
        "- PRA 50 ÁRVORES:\n",
        "\n",
        "taxa de acerto média: 0.9129 (+/- 0.0183)\n",
        "\n",
        "precisão média: 0.9765 (+/- 0.0218)\n",
        "\n",
        "recall médio: 0.8466 (+/- 0.0269)\n",
        "\n",
        "F1-Score médio: 0.9069 (+/- 0.0201)\n",
        "\n",
        "- PRA 100 ÁRVORES:\n",
        "\n",
        "taxa de acerto média: 0.9152 (+/- 0.0178)\n",
        "\n",
        "precisão média: 0.9779 (+/- 0.0258)\n",
        "\n",
        "recall médio: 0.8502 (+/- 0.0271)\n",
        "\n",
        "F1-Score médio: 0.9095 (+/- 0.0195)\n",
        "\n",
        "- PRA 300 ÁRVORES:\n",
        "\n",
        "taxa de acerto média: 0.9147 (+/- 0.0218)\n",
        "\n",
        "precisão média: 0.9774 (+/- 0.0250)\n",
        "\n",
        "recall médio: 0.8495 (+/- 0.0314)\n",
        "\n",
        "F1-Score médio: 0.9089 (+/- 0.0240)\n",
        "\n",
        "- PRA 1000 ÁRVORES:\n",
        "\n",
        "taxa de acerto média: 0.9136 (+/- 0.0194)\n",
        "\n",
        "precisão média: 0.9758 (+/- 0.0238)\n",
        "\n",
        "recall médio: 0.8488 (+/- 0.0278)\n",
        "\n",
        "F1-Score médio: 0.9078 (+/- 0.0213)\n",
        "\n",
        "- PRA 2000 ÁRVORES:\n",
        "\n",
        "taxa de acerto média: 0.9149 (+/- 0.0224)\n",
        "\n",
        "precisão média: 0.9786 (+/- 0.0247)\n",
        "\n",
        "recall médio: 0.8488 (+/- 0.0304)\n",
        "\n",
        "F1-Score médio: 0.9090 (+/- 0.0245)\n"
      ]
    },
    {
      "cell_type": "markdown",
      "metadata": {
        "id": "ksdGXZxDVMZ6"
      },
      "source": [
        "*PARA OS HIPERPARÂMETROS COM SEUS VALORES PADRÃO:*\n",
        "\n",
        "- PRA 50 ÁRVORES:\n",
        "\n",
        "taxa de acerto média: 0.9903 (+/- 0.0067)\n",
        "\n",
        "precisão média: 0.9949 (+/- 0.0113)\n",
        "\n",
        "recall médio: 0.9858 (+/- 0.0100)\n",
        "\n",
        "F1-Score médio: 0.9903 (+/- 0.0067)\n",
        "\n",
        "- PRA 100 ÁRVORES:\n",
        "\n",
        "taxa de acerto média: 0.9900 (+/- 0.0080)\n",
        "\n",
        "precisão média: 0.9942 (+/- 0.0121)\n",
        "\n",
        "recall médio: 0.9858 (+/- 0.0171)\n",
        "\n",
        "F1-Score médio: 0.9899 (+/- 0.0081)\n",
        "\n",
        "- PRA 300 ÁRVORES:\n",
        "\n",
        "taxa de acerto média: 0.9907 (+/- 0.0068)\n",
        "\n",
        "precisão média: 0.9952 (+/- 0.0086)\n",
        "\n",
        "recall médio: 0.9862 (+/- 0.0129)\n",
        "\n",
        "F1-Score médio: 0.9907 (+/- 0.0069)"
      ]
    },
    {
      "cell_type": "markdown",
      "metadata": {
        "id": "6ORYG1pIR9l-"
      },
      "source": [
        "Dado que as métricas de desempenho do modelo pouco variaram com o aumento (mesmo que bastante acentuado) do número de árvores utilizadas, há espaço para desconfiança, algum fator nos dados pode estar causando uma falsa boa impressão. Entretanto, os autores deste trabalho não foram capazes de determinar qual o problema e, logo, qual seria a possível solução.\n",
        "\n",
        "Esse resultado observou-se inclusive quando são utilizados os valores padrão dos hiperparâmetros, sendo que nestes casos o desempenho do modelo foi ainda superior a quando utilizou-se valores teoricamente mais adequados. O que mostra mais uma incoerência do modelo.\n",
        "\n",
        "Caso os resultados estivessem corretos, poderia-se optar por um baixo número de árvores, como 25, por exemplo, que já se teria um ótimo resultado e um custo computacional mais baixo do que se fosse se utilizar 100, 300 ou mais árvores."
      ]
    },
    {
      "cell_type": "code",
      "metadata": {
        "id": "USZ6z0R6jEbR",
        "outputId": "32d8eebb-fc0f-4a88-af8b-8a44ab9cce66",
        "colab": {
          "base_uri": "https://localhost:8080/"
        }
      },
      "source": [
        "print('O número de instâncias com avocados orgânicos é %0.0f, já o número de instâncias com avocados convencionais é %0.0f'\n",
        "        % (len(df[df['type']==1]), len(df[df['type']==0])))"
      ],
      "execution_count": null,
      "outputs": [
        {
          "output_type": "stream",
          "text": [
            "O número de instâncias com avocados orgânicos é 9123, já o número de instâncias com avocados convencionais é 9126\n"
          ],
          "name": "stdout"
        }
      ]
    },
    {
      "cell_type": "markdown",
      "metadata": {
        "id": "tuvEf1OLkE3F"
      },
      "source": [
        "Ou seja, o dataset é realmente bastante balanceado, o que justifica em parte e similaridade entre as métricas acurácia e f1-score. "
      ]
    },
    {
      "cell_type": "markdown",
      "metadata": {
        "id": "d8CcglVh51P5"
      },
      "source": [
        "*6.2 - AVALIAÇÃO Decision Tree Classifier (com critério de entropia), Regressão logística e AdaBoost Classifier:*"
      ]
    },
    {
      "cell_type": "markdown",
      "metadata": {
        "id": "tPMqYbja4x-F"
      },
      "source": [
        "Criando uma função para treinar K modelos de cada algoritmo e avaliá-los com o K-fold Cross Validation para k=10:"
      ]
    },
    {
      "cell_type": "code",
      "metadata": {
        "id": "vzS99Rgd4w2L"
      },
      "source": [
        "def run_kfold(clf):\n",
        "  kf = KFold(n_splits=10) # número de folds do Kfold\n",
        "  outcomes = [] # lista dos resultados das métricas das acurácias dos modelos\n",
        "  fold = 0 # fold inicial, vai ciclar com os outros folds\n",
        "\n",
        "  for train_index, test_index in kf.split(X):\n",
        "      fold += 1\n",
        "      Xtrain, Xtest = X[train_index], X[test_index]\n",
        "      ytrain, ytest = Y[train_index], Y[test_index]\n",
        "      clf.fit(Xtrain, ytrain) # treinando o modelo do fold \n",
        "      predictions = clf.predict(Xtest)\n",
        "      accuracy = accuracy_score(ytest, predictions)\n",
        "      outcomes.append(accuracy) # agregando o resultado da acurácia do fold na lista\n",
        "\n",
        "  mean_outcome = np.mean(outcomes) # média das acurácias dos folds do modelo\n",
        "  max_outcome = np.max(outcomes) # acurácia máxima dos folds do modelo\n",
        "  min_outcome = np.min(outcomes) # acurácia mínima dos folds do modelo\n",
        "  print(\"Acurácia Média: {0}\\n Acurácia Máxima: {1}\\n Acurácia Mínima: {2}\".format(mean_outcome,max_outcome,min_outcome)) \n",
        "  return None"
      ],
      "execution_count": null,
      "outputs": []
    },
    {
      "cell_type": "code",
      "metadata": {
        "id": "znstaHY76PIm",
        "outputId": "02ceed9b-6fed-4a89-bafd-7ba22969afcc",
        "colab": {
          "base_uri": "https://localhost:8080/"
        }
      },
      "source": [
        "classifiers = [DT, ADA, LG]\n",
        "for classifier in classifiers:\n",
        "    print('\\n\\nClassificador:', classifier)\n",
        "    run_kfold(classifier)"
      ],
      "execution_count": null,
      "outputs": [
        {
          "output_type": "stream",
          "text": [
            "\n",
            "\n",
            "Classificador: DecisionTreeClassifier(ccp_alpha=0.0, class_weight=None, criterion='entropy',\n",
            "                       max_depth=None, max_features=None, max_leaf_nodes=None,\n",
            "                       min_impurity_decrease=0.0, min_impurity_split=None,\n",
            "                       min_samples_leaf=1, min_samples_split=2,\n",
            "                       min_weight_fraction_leaf=0.0, presort='deprecated',\n",
            "                       random_state=None, splitter='best')\n",
            "Acurácia Média: 0.924762947608748\n",
            " Acurácia Máxima: 0.9731506849315068\n",
            " Acurácia Mínima: 0.776986301369863\n",
            "\n",
            "\n",
            "Classificador: AdaBoostClassifier(algorithm='SAMME.R', base_estimator=None, learning_rate=1.0,\n",
            "                   n_estimators=50, random_state=None)\n",
            "Acurácia Média: 0.9262369021869743\n",
            " Acurácia Máxima: 0.9747945205479452\n",
            " Acurácia Mínima: 0.8234649122807017\n",
            "\n",
            "\n",
            "Classificador: LogisticRegression(C=1.0, class_weight=None, dual=False, fit_intercept=True,\n",
            "                   intercept_scaling=1, l1_ratio=None, max_iter=100,\n",
            "                   multi_class='auto', n_jobs=None, penalty='l2',\n",
            "                   random_state=0, solver='lbfgs', tol=0.0001, verbose=0,\n",
            "                   warm_start=False)\n",
            "Acurácia Média: 0.9173105022831051\n",
            " Acurácia Máxima: 0.9928767123287672\n",
            " Acurácia Mínima: 0.8498630136986302\n"
          ],
          "name": "stdout"
        }
      ]
    },
    {
      "cell_type": "markdown",
      "metadata": {
        "id": "Uyw5keTmxRUk"
      },
      "source": [
        "Uma árvore consiste em um grande número de nós e pode exigir uma quantidade significativa de esforço mental para compreender todas as divisões que levam a uma determinada previsão. Em contraste, um modelo de regressão logística é simplesmente uma lista de coeficientes. Ou seja, do ponto de vista de interpretabilidade, na maioria das vezes a regressão logística vai se sair melhor. O Adaboost vai depender do algoritmo base, mas no geral, se se utiliza de árvores de decisão, por exemplo, sua interpretabilidade é precária.\n",
        "\n",
        "Já do ponto de vista de custo combitacional não há dúvidas de que o Adaboost tende a ser o mais custoso, dado sua natureza de ensemble learning sequencial. Comparando a regressão logística com a árvore de decisão pode variar bastante de caso para caso, porem, a tendêcias é que os modelos desenvolvidos com o algoritmo de regressão logística possuam menor custo computacional.\n",
        "\n",
        "Desta forma, pode-se dizer que, para este dataset, o algoritmo de regressão logística é uma ótima escolha, sendo suficiente para garantir um bom resultado (na média próximo a 90%) com baixo custo computacional e boa interpretabilidade."
      ]
    },
    {
      "cell_type": "markdown",
      "metadata": {
        "id": "JE5WoC8tuQ3V"
      },
      "source": [
        "*6.3 - ROC-AUC ENTRE ALGORITMOS:*\n",
        "\n",
        "Uma forma de avaliar e comparar modelos de classificação é com a área sob a curva ROC (Receiver Operating Characteristics), ou AUC (Area Under Curve), de cada modelo, que combina as a variação das métricas recall e precisão (1-especificidade).\n",
        "\n",
        "A curva ROC é gerada traçando todos os valores de corte possíveis, que são as probabilidades atribuídas a cada observação. Selecionar um valor de corte diferente irá alterar a sensibilidade e especificidade da ferramenta de predição, portanto, cada probabilidade de corte pode ser plotada no espaço do gráfico usando a sensibilidade associada e especificidade 1 como as coordenadas. O ponto mais próximo do canto superior esquerdo fornece o maior equilíbrio entre as métricas de precisão.\n",
        "\n",
        "A AUC varia entre 0 e 1, sendo 1 para um algoritmo perfeito, 0,5 para o modelo que não tem capacidade de discriminação para distinguir entre classe positiva e classe negativa (seria o mesmo que jogar uma moeda não viciada), e aproximadamente 0 quando o modelo está na verdade trocando as classes, ou seja, o modelo está prevendo uma classe negativa como uma classe positiva e vice-versa.\n"
      ]
    },
    {
      "cell_type": "code",
      "metadata": {
        "id": "VyPp7-mYJ_xf"
      },
      "source": [
        "from sklearn import metrics\n",
        "from sklearn.model_selection import StratifiedKFold\n",
        "from sklearn.metrics import roc_curve\n",
        "from sklearn.metrics import roc_auc_score\n",
        "from sklearn.metrics import plot_roc_curve"
      ],
      "execution_count": null,
      "outputs": []
    },
    {
      "cell_type": "markdown",
      "metadata": {
        "id": "YWB9e8PndVgz"
      },
      "source": [
        "Curva ROC e respectiva AUC para o modelo de Random Forest:"
      ]
    },
    {
      "cell_type": "code",
      "metadata": {
        "id": "k7E3dxkavGln",
        "outputId": "44d89fbd-4f8d-4487-87c1-2ca8010e995b",
        "colab": {
          "base_uri": "https://localhost:8080/"
        }
      },
      "source": [
        "#run_kfold(classifier)\n",
        "\n",
        "# roc curve for models\n",
        "fpr1, tpr1, thresh1 = roc_curve(Y_test, RF_pred, pos_label=1)\n",
        "\n",
        "random_probs = [0 for i in range(len(Y_test))]\n",
        "p_fpr, p_tpr, _ = roc_curve(Y_test, random_probs, pos_label=1)\n",
        "\n",
        "# auc scores\n",
        "auc_score1 = roc_auc_score(Y_test, RF_pred)\n",
        "\n",
        "print(auc_score1)"
      ],
      "execution_count": null,
      "outputs": [
        {
          "output_type": "stream",
          "text": [
            "0.913796672575478\n"
          ],
          "name": "stdout"
        }
      ]
    },
    {
      "cell_type": "code",
      "metadata": {
        "id": "nXvgDxMT-t6E",
        "outputId": "c414b5b6-3938-4fc0-b19f-1fa3faf6d1f4",
        "colab": {
          "base_uri": "https://localhost:8080/",
          "height": 376
        }
      },
      "source": [
        "plt.style.use('seaborn')\n",
        "\n",
        "# plot roc curves\n",
        "plt.plot(fpr1, tpr1, linestyle='--',color='orange', label='Random Forest')\n",
        "plt.plot(p_fpr, p_tpr, linestyle='--', color='black')\n",
        "# title\n",
        "plt.title('RF ROC curve')\n",
        "# x label\n",
        "plt.xlabel('FPR (False Positive Rate ou 1-Especificidade)')\n",
        "# y label\n",
        "plt.ylabel('TPR (True Positive Rate ou Recall)')\n",
        "\n",
        "plt.legend(loc='best')\n",
        "plt.savefig('ROC',dpi=300)\n",
        "plt.show()"
      ],
      "execution_count": null,
      "outputs": [
        {
          "output_type": "display_data",
          "data": {
            "image/png": "[encoded data removed]",
            "text/plain": [
              "<Figure size 576x396 with 1 Axes>"
            ]
          },
          "metadata": {
            "tags": []
          }
        }
      ]
    },
    {
      "cell_type": "markdown",
      "metadata": {
        "id": "_pFf9ycTtrwy"
      },
      "source": [
        "O modelo de Random Forest fornecer uma AUC de aproximadamento 0.9, o que significa que cerca de 90% dos objetos são corretamente classificados. Este resultado é muito bom."
      ]
    },
    {
      "cell_type": "markdown",
      "metadata": {
        "id": "EoH2pvGXcCtp"
      },
      "source": [
        "Criando uma função para aplicar a curva ROC a cada um dos modelos do Cross Validation de cada um dos outros algoritmos utilizados:"
      ]
    },
    {
      "cell_type": "code",
      "metadata": {
        "id": "BUwFEip6Irq1"
      },
      "source": [
        "from sklearn.metrics import auc\n",
        "def StratifKFoldROC (model, data, splits):\n",
        "\n",
        "  cv = StratifiedKFold(n_splits = splits)\n",
        "  classifier = model\n",
        "  y = np.array(data['type'].values)\n",
        "  X = np.array(data.drop('type', axis = 1).values)\n",
        "\n",
        "  tprs = []\n",
        "  aucs = []\n",
        "  mean_fpr = np.linspace(0, 1, 100)\n",
        "\n",
        "  \n",
        "  fig, ax = plt.subplots()\n",
        "  for i, (train, test) in enumerate(cv.split(X, y)):\n",
        "      classifier.fit(X[train], y[train])\n",
        "      viz = plot_roc_curve(classifier, X[test], y[test],\n",
        "                         name='ROC fold {}'.format(i),\n",
        "                         alpha=0.4, lw=1, ax=ax)\n",
        "      interp_tpr = np.interp(mean_fpr, viz.fpr, viz.tpr)\n",
        "      interp_tpr[0] = 0.0\n",
        "      tprs.append(interp_tpr)\n",
        "      aucs.append(viz.roc_auc)\n",
        "\n",
        "  ax.plot([0, 1], [0, 1], linestyle='--', lw=2, color='r',\n",
        "        label='Chance (AUC=0.5)', alpha=.8)\n",
        "\n",
        "  mean_tpr = np.mean(tprs, axis=0)\n",
        "  mean_tpr[-1] = 1.0\n",
        "  mean_auc = auc(mean_fpr, mean_tpr)\n",
        "  std_auc = np.std(aucs)\n",
        "  ax.plot(mean_fpr, mean_tpr, color='b',\n",
        "        label=r'Mean ROC (AUC = %0.2f $\\pm$ %0.2f)' % (mean_auc, std_auc),\n",
        "        lw=2, alpha=.8)\n",
        "\n",
        "\n",
        "  ax.set(xlim=[-0.05, 1.05], ylim=[-0.05, 1.05],\n",
        "       title=\"Curva ROC para o modelo {}\".format(type(model).__name__))\n",
        "  ax.legend(loc=\"lower right\")\n",
        " \n",
        "  plt.show()"
      ],
      "execution_count": null,
      "outputs": []
    },
    {
      "cell_type": "markdown",
      "metadata": {
        "id": "oZvVzaJicHM2"
      },
      "source": [
        "Plotando a curva ROC para o modelo de Regressão Logítica (para todos os  8 modelos criados no cross-validaton e para a média):\n"
      ]
    },
    {
      "cell_type": "code",
      "metadata": {
        "id": "eA45K53TIMYs",
        "outputId": "5b388f8e-5f30-453f-b044-87eb9d69632f",
        "colab": {
          "base_uri": "https://localhost:8080/",
          "height": 376
        }
      },
      "source": [
        "StratifKFoldROC(LG, df, 8)"
      ],
      "execution_count": null,
      "outputs": [
        {
          "output_type": "display_data",
          "data": {
            "image/png": "[encoded data removed]",
            "text/plain": [
              "<Figure size 576x396 with 1 Axes>"
            ]
          },
          "metadata": {
            "tags": []
          }
        }
      ]
    },
    {
      "cell_type": "markdown",
      "metadata": {
        "id": "fK_ocBS-cvzs"
      },
      "source": [
        "Plotando a curva ROC para o modelo Adaboost (para todos os  8 modelos criados no cross-validaton e para a média):\n"
      ]
    },
    {
      "cell_type": "code",
      "metadata": {
        "id": "kOMjJXgSKrOK",
        "outputId": "ca2c1417-a124-40d9-9b03-a7fd2e7b8be8",
        "colab": {
          "base_uri": "https://localhost:8080/",
          "height": 376
        }
      },
      "source": [
        "StratifKFoldROC(ADA, df, 8)"
      ],
      "execution_count": null,
      "outputs": [
        {
          "output_type": "display_data",
          "data": {
            "image/png": "[encoded data removed]",
            "text/plain": [
              "<Figure size 576x396 with 1 Axes>"
            ]
          },
          "metadata": {
            "tags": []
          }
        }
      ]
    },
    {
      "cell_type": "markdown",
      "metadata": {
        "id": "SqzIQmTWdErX"
      },
      "source": [
        "Plotando a curva ROC para o modelo de Árvore de Decisão (para todos os  8 modelos criados no cross-validaton e para a média):\n"
      ]
    },
    {
      "cell_type": "code",
      "metadata": {
        "id": "MLaLGE89dI1M",
        "outputId": "c6a04d46-a2a2-4a83-9de3-53cc4a378dae",
        "colab": {
          "base_uri": "https://localhost:8080/",
          "height": 376
        }
      },
      "source": [
        "StratifKFoldROC(DT, df, 8)"
      ],
      "execution_count": null,
      "outputs": [
        {
          "output_type": "display_data",
          "data": {
            "image/png": "[encoded data removed]",
            "text/plain": [
              "<Figure size 576x396 with 1 Axes>"
            ]
          },
          "metadata": {
            "tags": []
          }
        }
      ]
    },
    {
      "cell_type": "markdown",
      "metadata": {
        "id": "JVsetZO6G6u1"
      },
      "source": [
        "O valores da AUC para os três algoritmos são bastante elevados, isso signifca que se fossem valores reais todos os três modelos teriam ótimos resultados, porém, provavelmente se passa algum erro, que não foi identificado."
      ]
    },
    {
      "cell_type": "markdown",
      "metadata": {
        "id": "6CY3tTsmwi8I"
      },
      "source": [
        "**7 - CONCLUSÃO**"
      ]
    },
    {
      "cell_type": "markdown",
      "metadata": {
        "id": "CEWMUP5hwlru"
      },
      "source": [
        "Dado o critério de sucesso estabelecido na seção 2.5, conclui-se que o resultado foi satisfatório. Isso porque todos os modelos utilizados na média forneceram um resultado superior a 90%. \n",
        "\n",
        "Verificou-se ainda que as diferenças de performance entre os quatro modelos testados são muito baixas, provavelmente em função das características do dataset, que não conta com dados faltantes nem ruído e cujos atributos preditivos com forte correlação foram eliminados (o que, caso não tivesse sido feito,  afetaria principalmente o modelo de regressão logística).\n",
        "\n",
        "Os outliers, por sua vez, não foram eliminados, o que esperava-se que poderia afetar fortemente o modelo de regressão logística - o que não foi observado -, mas não os demais algoritmos utilizados. \n",
        "\n",
        "O único modelo que fornecer um resultado consideravelmente superior os demais foi o do Random Forest, porém, como já explicado anteriormente, ele parece possuir algumas incoerências. Desta forma, como discutido na seção de avaliação, o modelo que apresentou melhor relação de custo (computacional)/benefício (elevada performance média) foi o de regressão logística.\n",
        "\n",
        "Pode-se deixar como sugestão para trabalhos futuros com o mesmo objetivo que o presente, ou seja, ainda sem falar em predição os seguintes pontos:\n",
        "\n",
        "- Avaliar possíveis erros no modelo Random Forest;\n",
        "\n",
        "- Verificar a veracidade das curvas ROC e respectivas AUCs;\n",
        "\n",
        "- Remover outliers e voltar a treinar e avaliar o modelo de Regressão Logística.\n"
      ]
    }
  ]
}